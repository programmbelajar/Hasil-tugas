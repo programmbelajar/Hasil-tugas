{
 "cells": [
  {
   "cell_type": "code",
   "execution_count": 8,
   "metadata": {},
   "outputs": [
    {
     "name": "stdout",
     "output_type": "stream",
     "text": [
      "100 -> 200 -> 300 -> None\n",
      "100 -> 200 -> 450 -> 300 -> None\n",
      "100 -> 450 -> 300 -> None\n",
      "300 ada pada data linked list :  True\n",
      "10 ada pada data linked list :  False\n"
     ]
    }
   ],
   "source": [
    "class Node:\n",
    "    def __init__(self, data):\n",
    "        self.data = data\n",
    "        self.next = None\n",
    "\n",
    "class LinkedList:\n",
    "    def __init__(self):\n",
    "        self.head = None\n",
    "    \n",
    "    def append(self, data):\n",
    "        new_node = Node(data)\n",
    "        if not self.head:\n",
    "            self.head = new_node\n",
    "            return\n",
    "        last = self.head\n",
    "        while last.next:\n",
    "            last = last.next\n",
    "        last.next = new_node\n",
    "    \n",
    "    def display(self):\n",
    "        current = self.head\n",
    "        while current:\n",
    "            print(current.data, end=\" -> \")\n",
    "            current = current.next\n",
    "        print(\"None\")\n",
    "    \n",
    "    def insertafter(self, prevnode, data):\n",
    "        if not prevnode:\n",
    "            print(\"Previous node is not in the list\")\n",
    "            return\n",
    "        new_node = Node(data)\n",
    "        new_node.next = prevnode.next\n",
    "        prevnode.next = new_node\n",
    "    \n",
    "    def delete(self, data):\n",
    "        current = self.head\n",
    "        if current and current.data == data:\n",
    "            self.head = current.next\n",
    "            current = None\n",
    "            return\n",
    "        prev = None\n",
    "        while current and current.data != data:\n",
    "            prev = current\n",
    "            current = current.next\n",
    "        if not current:\n",
    "            print(\"Data not found in the list\")\n",
    "            return\n",
    "        prev.next = current.next\n",
    "        current = None\n",
    "    \n",
    "    def search(self, data):\n",
    "        current = self.head\n",
    "        while current:\n",
    "            if current.data == data:\n",
    "                return True\n",
    "            current = current.next\n",
    "        return False\n",
    "\n",
    "# Contoh penggunaan\n",
    "l = LinkedList() #l digunakan untuk memisalkan LinkedList\n",
    "l.append(100)\n",
    "l.append(200)\n",
    "l.append(300)\n",
    "l.display()\n",
    "l.insertafter(l.head.next, 450) #ini merupakan penyisipan \n",
    "l.display()\n",
    "l.delete(200) #digunakan untuk menghapus salah satu data yang ada di LinkedList\n",
    "l.display()\n",
    "print(\"300 ada pada data linked list : \",l.search(300))  #untuk mencari sebuah data pada LinkedList\n",
    "print(\"10 ada pada data linked list : \",l.search(10))  #untuk mencari data yang ada di LinkedList\n"
   ]
  }
 ],
 "metadata": {
  "kernelspec": {
   "display_name": "Python 3",
   "language": "python",
   "name": "python3"
  },
  "language_info": {
   "codemirror_mode": {
    "name": "ipython",
    "version": 3
   },
   "file_extension": ".py",
   "mimetype": "text/x-python",
   "name": "python",
   "nbconvert_exporter": "python",
   "pygments_lexer": "ipython3",
   "version": "3.13.2"
  }
 },
 "nbformat": 4,
 "nbformat_minor": 2
}
